{
  "nbformat": 4,
  "nbformat_minor": 0,
  "metadata": {
    "colab": {
      "provenance": []
    },
    "kernelspec": {
      "name": "python3",
      "display_name": "Python 3"
    },
    "language_info": {
      "name": "python"
    }
  },
  "cells": [
    {
      "cell_type": "markdown",
      "source": [
        "# Mean, Median, and Mode"
      ],
      "metadata": {
        "id": "xwlqjWGWZFmj"
      }
    },
    {
      "cell_type": "markdown",
      "source": [
        "*    Mean - The average value\n",
        "*   Median - The mid point value\n",
        "*   Mode - The most common value\n",
        "\n",
        "\n",
        "   \n",
        "\n"
      ],
      "metadata": {
        "id": "qzzeLwwMZbks"
      }
    },
    {
      "cell_type": "code",
      "source": [
        "import numpy"
      ],
      "metadata": {
        "id": "ah104gUGZk38"
      },
      "execution_count": null,
      "outputs": []
    },
    {
      "cell_type": "code",
      "source": [
        "speed = [99,86,87,88,111,86,103,87,94,78,77,85,86]\n",
        "x = numpy.mean(speed)\n",
        "print(\"mean value is : \",x)"
      ],
      "metadata": {
        "colab": {
          "base_uri": "https://localhost:8080/"
        },
        "id": "A3vbEpERaESL",
        "outputId": "cda3e9f5-763e-4c58-df21-8c7f200a7fe0"
      },
      "execution_count": null,
      "outputs": [
        {
          "output_type": "stream",
          "name": "stdout",
          "text": [
            "mean value is :  89.76923076923077\n"
          ]
        }
      ]
    },
    {
      "cell_type": "code",
      "source": [
        "y = numpy.std(speed)\n",
        "print(\"standard deviation is : \",y)"
      ],
      "metadata": {
        "colab": {
          "base_uri": "https://localhost:8080/"
        },
        "id": "bYIDtZdQaLUA",
        "outputId": "81f22054-6189-4ea2-e833-80a6f6ea9d60"
      },
      "execution_count": null,
      "outputs": [
        {
          "output_type": "stream",
          "name": "stdout",
          "text": [
            "standard deviation is :  9.258292301032677\n"
          ]
        }
      ]
    },
    {
      "cell_type": "code",
      "source": [
        "from scipy import stats as st"
      ],
      "metadata": {
        "id": "BXQlxbr1a5At"
      },
      "execution_count": null,
      "outputs": []
    },
    {
      "cell_type": "code",
      "source": [
        "print(st.mode(speed))"
      ],
      "metadata": {
        "colab": {
          "base_uri": "https://localhost:8080/"
        },
        "id": "hS77qoa-blR0",
        "outputId": "2b6bfc2d-18d1-403c-f494-b0007d463fec"
      },
      "execution_count": null,
      "outputs": [
        {
          "output_type": "stream",
          "name": "stdout",
          "text": [
            "ModeResult(mode=86, count=3)\n"
          ]
        }
      ]
    },
    {
      "cell_type": "markdown",
      "source": [
        "# Percentiles\n",
        "\n",
        "\n"
      ],
      "metadata": {
        "id": "OEM4ODAecz1V"
      }
    },
    {
      "cell_type": "code",
      "source": [
        "import numpy\n",
        "ages =[5,31,43,48,50,41,7,11,15,39,80,82,32,2,8,6,25,36,27,61,31]\n",
        "x = numpy.percentile(ages,75)\n",
        "print(x)"
      ],
      "metadata": {
        "colab": {
          "base_uri": "https://localhost:8080/"
        },
        "id": "yzmJpUzldG2r",
        "outputId": "4672534f-c2f7-4571-cab2-4ceebabdeaf2"
      },
      "execution_count": null,
      "outputs": [
        {
          "output_type": "stream",
          "name": "stdout",
          "text": [
            "43.0\n"
          ]
        }
      ]
    },
    {
      "cell_type": "code",
      "source": [
        "x = numpy.percentile(ages,90)\n",
        "print(x)"
      ],
      "metadata": {
        "colab": {
          "base_uri": "https://localhost:8080/"
        },
        "id": "09yga4a7dVtQ",
        "outputId": "098e6ec5-9e52-473b-f034-5be7f3299367"
      },
      "execution_count": null,
      "outputs": [
        {
          "output_type": "stream",
          "name": "stdout",
          "text": [
            "61.0\n"
          ]
        }
      ]
    },
    {
      "cell_type": "code",
      "source": [],
      "metadata": {
        "id": "A67VDRd8dd_F"
      },
      "execution_count": null,
      "outputs": []
    }
  ]
}